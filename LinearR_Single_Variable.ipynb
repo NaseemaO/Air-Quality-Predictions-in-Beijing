{
 "cells": [
  {
   "cell_type": "markdown",
   "metadata": {},
   "source": [
    "### Linear Regression & Predictions using a single feature to predict the O3. Supervised Machine Learning Methods.\n",
    "Explored by performing prediction models using 2 different cleansed datasets: \n",
    "1. Without Zero or Null Values\n",
    "2. With Zero Values replaced with Median Values of their respective columns"
   ]
  },
  {
   "cell_type": "markdown",
   "metadata": {},
   "source": [
    "Note: All Outputs Cleared except for Data 1 and Data 2 Evaluation cell outputs. \n",
    "The Outputs, particularly the plots were making the notebook size very large. "
   ]
  },
  {
   "cell_type": "code",
   "execution_count": null,
   "metadata": {},
   "outputs": [],
   "source": [
    "# Import Modules and Packages. \n",
    "import numpy as np\n",
    "import pandas as pd\n",
    "import hvplot.pandas\n",
    "from pathlib import Path\n",
    "from sklearn.linear_model import LinearRegression\n",
    "from sklearn.metrics import mean_squared_error, r2_score\n",
    "from warnings import simplefilter\n",
    "simplefilter(action='ignore', category=FutureWarning)"
   ]
  },
  {
   "cell_type": "code",
   "execution_count": null,
   "metadata": {},
   "outputs": [],
   "source": [
    "# Read in cleansed data file 'data_drop.csv' from AWS S3 Bucket\n",
    "url=\"https://project-4-group-6-air-quality.s3.us-east-2.amazonaws.com/data_drop.csv\"\n",
    "air_data_df = pd.read_csv(\n",
    "    url,\n",
    "    sep=',',\n",
    "    encoding='utf-8',\n",
    ")\n",
    "air_data_df.head()"
   ]
  },
  {
   "cell_type": "code",
   "execution_count": null,
   "metadata": {},
   "outputs": [],
   "source": [
    "air_data_df.info()"
   ]
  },
  {
   "cell_type": "code",
   "execution_count": null,
   "metadata": {},
   "outputs": [],
   "source": [
    "# Drop the 'wd' string object, and date columns,  and save to new df\n",
    "air_df = air_data_df.drop(['year', 'month', 'day','hour','wd'], axis = 1)\n",
    "\n",
    "# Rename Unnamed:0 column\n",
    "air_df.rename(columns ={\"Unnamed: 0\":\"Number\"})"
   ]
  },
  {
   "cell_type": "code",
   "execution_count": null,
   "metadata": {},
   "outputs": [],
   "source": [
    "# Create a scatter plot\n",
    "air_plot = air_df.hvplot.scatter(\n",
    "    x=\"TEMP\",\n",
    "    y=\"O3\",\n",
    "    title=\"Expected Ozone Measures based on Temperature\"\n",
    ")\n",
    "air_plot"
   ]
  },
  {
   "cell_type": "markdown",
   "metadata": {},
   "source": [
    "Linear Regression Model to predict Ozone based on Temperature. "
   ]
  },
  {
   "cell_type": "code",
   "execution_count": null,
   "metadata": {},
   "outputs": [],
   "source": [
    "# Create the X set by using the `reshape` function to format the TEMP data as a single column array.\n",
    "X = air_df[\"TEMP\"].values.reshape(-1, 1)\n",
    "# Display sample data\n",
    "X[:5]"
   ]
  },
  {
   "cell_type": "code",
   "execution_count": null,
   "metadata": {},
   "outputs": [],
   "source": [
    "# Create an array for the dependent variable y with the O3 data\n",
    "y = air_df[\"O3\"]"
   ]
  },
  {
   "cell_type": "markdown",
   "metadata": {},
   "source": [
    "Linear Regression Model with SciKit-learn"
   ]
  },
  {
   "cell_type": "code",
   "execution_count": null,
   "metadata": {},
   "outputs": [],
   "source": [
    "# Create a model with scikit-learn\n",
    "model = LinearRegression()"
   ]
  },
  {
   "cell_type": "code",
   "execution_count": null,
   "metadata": {},
   "outputs": [],
   "source": [
    "# Fit the data into the model\n",
    "model.fit(X, y)"
   ]
  },
  {
   "cell_type": "code",
   "execution_count": null,
   "metadata": {},
   "outputs": [],
   "source": [
    "# Display the slope\n",
    "print(f\"Model's slope: {model.coef_}\")"
   ]
  },
  {
   "cell_type": "code",
   "execution_count": null,
   "metadata": {},
   "outputs": [],
   "source": [
    "# Display the y-intercept\n",
    "print(f\"Model's y-intercept: {model.intercept_}\")"
   ]
  },
  {
   "cell_type": "code",
   "execution_count": null,
   "metadata": {},
   "outputs": [],
   "source": [
    "# Display the model's best fit line formula\n",
    "print(f\"Model's formula: y = {model.intercept_} + {model.coef_[0]}X\")"
   ]
  },
  {
   "cell_type": "markdown",
   "metadata": {},
   "source": [
    "Plot of Best Fit Line for the Prediction Model"
   ]
  },
  {
   "cell_type": "code",
   "execution_count": null,
   "metadata": {},
   "outputs": [],
   "source": [
    "# Make predictions using the X set\n",
    "predicted_y_values = model.predict(X)"
   ]
  },
  {
   "cell_type": "code",
   "execution_count": null,
   "metadata": {},
   "outputs": [],
   "source": [
    "# Create a copy of the original data\n",
    "air_ozone_predicted = air_df.copy()\n",
    "\n",
    "# Add a column with the predicted sales values\n",
    "air_ozone_predicted[\"Ozone_predicted\"] = predicted_y_values\n",
    "\n",
    "# Display sample data\n",
    "air_ozone_predicted.head()"
   ]
  },
  {
   "cell_type": "code",
   "execution_count": null,
   "metadata": {},
   "outputs": [],
   "source": [
    "# Create a line plot of ads versus the predicted sales values\n",
    "best_fit_line = air_ozone_predicted.hvplot.line(\n",
    "    x = \"TEMP\",\n",
    "    y = \"Ozone_predicted\",\n",
    "    color = \"orange\"\n",
    ")\n",
    "best_fit_line"
   ]
  },
  {
   "cell_type": "markdown",
   "metadata": {},
   "source": [
    "Plot of inital Scatter Plot and Best Fit Line Plot"
   ]
  },
  {
   "cell_type": "code",
   "execution_count": null,
   "metadata": {},
   "outputs": [],
   "source": [
    "# Superpose the original data and the best fit line\n",
    "air_plot * best_fit_line"
   ]
  },
  {
   "cell_type": "markdown",
   "metadata": {},
   "source": [
    "Manual Predictions"
   ]
  },
  {
   "cell_type": "code",
   "execution_count": null,
   "metadata": {},
   "outputs": [],
   "source": [
    "# Display the formula to predict the sales with 100 ads\n",
    "print(f\"Model's formula: y = {model.intercept_} + {model.coef_[0]} * 100\")\n",
    "\n",
    "# Predict the sales with 100 ads\n",
    "y_100 = model.intercept_ + model.coef_[0] * 100\n",
    "\n",
    "# Display the prediction\n",
    "print(f\"Predicted Ozone (O3) metrics {y_100:.2f}\")"
   ]
  },
  {
   "cell_type": "markdown",
   "metadata": {},
   "source": [
    "Predictions Using the `Predict` Function"
   ]
  },
  {
   "cell_type": "code",
   "execution_count": null,
   "metadata": {},
   "outputs": [],
   "source": [
    "# Create an array to predict ozone levels for -0.5, -1.0, -1.5, -2.0, and -2.5 Temps\n",
    "X_temps = np.array([-0.5, -1.0, -1.5, -2.0, -2.5])\n",
    "\n",
    "# Format the array as a one-column array\n",
    "X_temps = X_temps.reshape(-1,1)\n",
    "\n",
    "# Display sample data\n",
    "X_temps"
   ]
  },
  {
   "cell_type": "code",
   "execution_count": null,
   "metadata": {},
   "outputs": [],
   "source": [
    "# Predict ozone for temp values\n",
    "predicted_ozone_temp = model.predict(X_temps)"
   ]
  },
  {
   "cell_type": "code",
   "execution_count": null,
   "metadata": {},
   "outputs": [],
   "source": [
    "# Create a DataFrame for the predicted ozone levels\n",
    "df_predicted_ozone_temp = pd.DataFrame(\n",
    "    {\n",
    "        \"temp\": X_temps.reshape(1, -1)[0],\n",
    "        \"predicted_ozone\": predicted_ozone_temp\n",
    "    }\n",
    ")\n",
    "\n",
    "# Display data\n",
    "df_predicted_ozone_temp"
   ]
  },
  {
   "cell_type": "markdown",
   "metadata": {},
   "source": [
    "Data 1. Evaluating the Linear Regression Model "
   ]
  },
  {
   "cell_type": "code",
   "execution_count": 41,
   "metadata": {},
   "outputs": [
    {
     "name": "stdout",
     "output_type": "stream",
     "text": [
      "The score is 0.34434693063035227.\n",
      "The r2 is 0.34434693063035227.\n",
      "The mean squared error is 2043.6992288229917.\n",
      "The root mean squared error is 45.20729176607455.\n",
      "The standard deviation is 55.83049022103166.\n"
     ]
    }
   ],
   "source": [
    "# Compute metrics for the linear regression model: score, r2, mse, rmse, std\n",
    "score = model.score(X, y, sample_weight=None)\n",
    "r2 = r2_score(y, predicted_y_values)\n",
    "mse = mean_squared_error(y, predicted_y_values)\n",
    "rmse = np.sqrt(mse)\n",
    "std = np.std(y)\n",
    "\n",
    "# Print relevant metrics.\n",
    "print(f\"The score is {score}.\")\n",
    "print(f\"The r2 is {r2}.\")\n",
    "print(f\"The mean squared error is {mse}.\")\n",
    "print(f\"The root mean squared error is {rmse}.\")\n",
    "print(f\"The standard deviation is {std}.\")"
   ]
  },
  {
   "cell_type": "markdown",
   "metadata": {},
   "source": [
    "### Process repeated using the cleansed dataset 2. 'data_med.csv'"
   ]
  },
  {
   "cell_type": "code",
   "execution_count": null,
   "metadata": {},
   "outputs": [],
   "source": [
    "# Read in cleansed data file 'data_drop.csv' from AWS S3 Bucket\n",
    "\n",
    "url=\"https://project-4-group-6-air-quality.s3.us-east-2.amazonaws.com/data_med.csv\"\n",
    "air2_data2_df = pd.read_csv(\n",
    "    url,\n",
    "    sep=',',\n",
    "    encoding='utf-8',\n",
    ")\n",
    "# Display sample data\n",
    "air2_data2_df.head()"
   ]
  },
  {
   "cell_type": "code",
   "execution_count": null,
   "metadata": {},
   "outputs": [],
   "source": [
    "# Drop the 'wd' string object, and date columns,  and save to new df\n",
    "air_data2_df = air2_data2_df.drop(['year', 'month', 'day','hour','wd'], axis = 1)\n",
    "\n",
    "# Rename Unnamed:0 column\n",
    "air_data2_df.rename(columns ={\"Unnamed: 0\":\"Number\"})"
   ]
  },
  {
   "cell_type": "markdown",
   "metadata": {},
   "source": [
    "Data2. Scatter Plot with Ozone (O3) and Temperature (TEMP)"
   ]
  },
  {
   "cell_type": "code",
   "execution_count": null,
   "metadata": {},
   "outputs": [],
   "source": [
    "# Create a scatter plot\n",
    "air_plot = air_data2_df.hvplot.scatter(\n",
    "    x=\"TEMP\",\n",
    "    y=\"O3\",\n",
    "    title=\"Expected Ozone Measures based on Temperature with Dataset2\"\n",
    ")\n",
    "air_plot"
   ]
  },
  {
   "cell_type": "code",
   "execution_count": null,
   "metadata": {},
   "outputs": [],
   "source": [
    "# Create the X set by using the `reshape` function to format the TEMP data as a single column array.\n",
    "X = air_data2_df[\"TEMP\"].values.reshape(-1, 1)\n",
    "\n",
    "# Display sample data\n",
    "X[:5]"
   ]
  },
  {
   "cell_type": "code",
   "execution_count": null,
   "metadata": {},
   "outputs": [],
   "source": [
    "# Create an array for the dependent variable y with the O3 data\n",
    "y = air_data2_df[\"O3\"]"
   ]
  },
  {
   "cell_type": "markdown",
   "metadata": {},
   "source": [
    "Data2.  Linear Regression Model with SciKit-learn"
   ]
  },
  {
   "cell_type": "code",
   "execution_count": null,
   "metadata": {},
   "outputs": [],
   "source": [
    "# Create a model with scikit-learn\n",
    "model = LinearRegression()"
   ]
  },
  {
   "cell_type": "code",
   "execution_count": null,
   "metadata": {},
   "outputs": [],
   "source": [
    "# Fit the data into the model\n",
    "model.fit(X, y)"
   ]
  },
  {
   "cell_type": "code",
   "execution_count": null,
   "metadata": {},
   "outputs": [],
   "source": [
    "# Display the slope\n",
    "print(f\"Model's slope: {model.coef_}\")"
   ]
  },
  {
   "cell_type": "code",
   "execution_count": null,
   "metadata": {},
   "outputs": [],
   "source": [
    "# Display the y-intercept\n",
    "print(f\"Model's y-intercept: {model.intercept_}\")"
   ]
  },
  {
   "cell_type": "code",
   "execution_count": null,
   "metadata": {},
   "outputs": [],
   "source": [
    "# Display the model's best fit line formula\n",
    "print(f\"Model's formula: y = {model.intercept_} + {model.coef_[0]}X\")"
   ]
  },
  {
   "cell_type": "markdown",
   "metadata": {},
   "source": [
    "Data2.  Plot of Best Fit Line for the Prediction Model"
   ]
  },
  {
   "cell_type": "code",
   "execution_count": null,
   "metadata": {},
   "outputs": [],
   "source": [
    "# Make predictions using the X set\n",
    "predicted_y_values = model.predict(X)"
   ]
  },
  {
   "cell_type": "code",
   "execution_count": null,
   "metadata": {},
   "outputs": [],
   "source": [
    "# Create a copy of the original data\n",
    "ozone_data2_predicted = air_data2_df.copy()\n",
    "\n",
    "# Add a column with the predicted sales values\n",
    "ozone_data2_predicted[\"Ozone_data2_predicted\"] = predicted_y_values\n",
    "\n",
    "# Display sample data\n",
    "ozone_data2_predicted.head()"
   ]
  },
  {
   "cell_type": "code",
   "execution_count": null,
   "metadata": {},
   "outputs": [],
   "source": [
    "# Create a line plot of ads versus the predicted sales values\n",
    "best_fit_line = ozone_data2_predicted.hvplot.line(\n",
    "    x = \"TEMP\",\n",
    "    y = \"Ozone_data2_predicted\",\n",
    "    color = \"orange\"\n",
    ")\n",
    "best_fit_line"
   ]
  },
  {
   "cell_type": "markdown",
   "metadata": {},
   "source": [
    "Data2.  Plot of inital Scatter Plot and Best Fit Line Plot"
   ]
  },
  {
   "cell_type": "code",
   "execution_count": null,
   "metadata": {},
   "outputs": [],
   "source": [
    "# Superpose the original data and the best fit line\n",
    "air_plot * best_fit_line"
   ]
  },
  {
   "cell_type": "markdown",
   "metadata": {},
   "source": [
    "Data2.  Manual Predictions"
   ]
  },
  {
   "cell_type": "code",
   "execution_count": null,
   "metadata": {},
   "outputs": [],
   "source": [
    "# Display the formula to predict the sales with 100 ads\n",
    "print(f\"Model's formula: y = {model.intercept_} + {model.coef_[0]} * 100\")\n",
    "\n",
    "# Predict the sales with 100 ads\n",
    "y_100 = model.intercept_ + model.coef_[0] * 100\n",
    "\n",
    "# Display the prediction\n",
    "print(f\"Predicted Ozone (O3) metrics with data2 {y_100:.2f}\")"
   ]
  },
  {
   "cell_type": "markdown",
   "metadata": {},
   "source": [
    "Data2. Predictions Using the `Predict` Function"
   ]
  },
  {
   "cell_type": "code",
   "execution_count": null,
   "metadata": {},
   "outputs": [],
   "source": [
    "# Create an array to predict ozone levels for -0.5, -1.0, -1.5, -2.0, and -2.5 Temps\n",
    "X_temps = np.array([-0.5, -1.0, -1.5, -2.0, -2.5])\n",
    "\n",
    "# Format the array as a one-column array\n",
    "X_temps = X_temps.reshape(-1,1)\n",
    "\n",
    "# Display sample data\n",
    "X_temps"
   ]
  },
  {
   "cell_type": "code",
   "execution_count": null,
   "metadata": {},
   "outputs": [],
   "source": [
    "# Predict ozone for temp values\n",
    "predicted_ozone_data2 = model.predict(X_temps)"
   ]
  },
  {
   "cell_type": "code",
   "execution_count": null,
   "metadata": {},
   "outputs": [],
   "source": [
    "# Create a DataFrame for the predicted ozone levels\n",
    "df_predicted_ozone_data2 = pd.DataFrame(\n",
    "    {\n",
    "        \"temp\": X_temps.reshape(1, -1)[0],\n",
    "        \"predicted_ozone\": predicted_ozone_temp\n",
    "    }\n",
    ")\n",
    "\n",
    "# Display data\n",
    "df_predicted_ozone_data2"
   ]
  },
  {
   "cell_type": "markdown",
   "metadata": {},
   "source": [
    "Data 2. Assessing the Linear Regression Model"
   ]
  },
  {
   "cell_type": "code",
   "execution_count": 42,
   "metadata": {},
   "outputs": [
    {
     "name": "stdout",
     "output_type": "stream",
     "text": [
      "The score is 0.34434693063035227.\n",
      "The r2 is 0.34434693063035227.\n",
      "The mean squared error is 2043.6992288229917.\n",
      "The root mean squared error is 45.20729176607455.\n",
      "The standard deviation is 55.83049022103166.\n"
     ]
    }
   ],
   "source": [
    "# Compute metrics for the linear regression model: score, r2, mse, rmse, std\n",
    "score = model.score(X, y, sample_weight=None)\n",
    "r2 = r2_score(y, predicted_y_values)\n",
    "mse = mean_squared_error(y, predicted_y_values)\n",
    "rmse = np.sqrt(mse)\n",
    "std = np.std(y)\n",
    "\n",
    "# Print relevant metrics.\n",
    "print(f\"The score is {score}.\")\n",
    "print(f\"The r2 is {r2}.\")\n",
    "print(f\"The mean squared error is {mse}.\")\n",
    "print(f\"The root mean squared error is {rmse}.\")\n",
    "print(f\"The standard deviation is {std}.\")"
   ]
  },
  {
   "cell_type": "markdown",
   "metadata": {},
   "source": [
    "### Conclusion\n",
    "* Decided to go with the Dataset 1 with data_drop.  \n",
    "* Dataset 2 with the Zero values replaced with Median value of the respective column adds a lot of bias to the result."
   ]
  }
 ],
 "metadata": {
  "kernelspec": {
   "display_name": "dev",
   "language": "python",
   "name": "python3"
  },
  "language_info": {
   "codemirror_mode": {
    "name": "ipython",
    "version": 3
   },
   "file_extension": ".py",
   "mimetype": "text/x-python",
   "name": "python",
   "nbconvert_exporter": "python",
   "pygments_lexer": "ipython3",
   "version": "3.10.12"
  }
 },
 "nbformat": 4,
 "nbformat_minor": 2
}
