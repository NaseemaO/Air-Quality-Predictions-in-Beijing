{
 "cells": [
  {
   "cell_type": "markdown",
   "metadata": {},
   "source": [
    "Note: Please download the code notebook and run to see all the Outputs. \n",
    "\n",
    "Most Outputs Cleared. Outputs for Model Evaluations viewable here. \n",
    "\n",
    "The Outputs, particularly the plots were making the notebook size very large. "
   ]
  },
  {
   "cell_type": "code",
   "execution_count": null,
   "metadata": {},
   "outputs": [],
   "source": [
    "# Import Modules and Packages. \n",
    "import numpy as np\n",
    "import pandas as pd\n",
    "import hvplot.pandas\n",
    "import seaborn as sns\n",
    "import matplotlib.pyplot as plt  \n",
    "\n",
    "from pathlib import Path\n",
    "\n",
    "from sklearn import linear_model  \n",
    "from sklearn.model_selection import train_test_split \n",
    "from sklearn.linear_model import LinearRegression\n",
    "from sklearn.metrics import mean_squared_error, r2_score, mean_absolute_error\n",
    "from sklearn import preprocessing \n",
    "\n",
    "import matplotlib.pyplot as plt  \n",
    "from mpl_toolkits.mplot3d import Axes3D  \n",
    "%matplotlib inline  \n",
    "\n",
    "from warnings import simplefilter\n",
    "simplefilter(action='ignore', category=FutureWarning)"
   ]
  },
  {
   "cell_type": "markdown",
   "metadata": {},
   "source": [
    "Linear Regression & Predictions using Multiple Variables, Supervised Machine Learning Methods."
   ]
  },
  {
   "cell_type": "code",
   "execution_count": null,
   "metadata": {},
   "outputs": [],
   "source": [
    "# Read in cleansed data file 'data_drop.csv' from AWS S3 Bucket\n",
    "\n",
    "url=\"https://project-4-group-6-air-quality.s3.us-east-2.amazonaws.com/data_drop.csv\"\n",
    "air3_data_df = pd.read_csv(\n",
    "    url,\n",
    "    sep=',',\n",
    "    encoding='utf-8',\n",
    ")\n",
    "\n",
    "# Display sample data\n",
    "air3_data_df.head()\n"
   ]
  },
  {
   "cell_type": "code",
   "execution_count": null,
   "metadata": {},
   "outputs": [],
   "source": [
    "type(air3_data_df)"
   ]
  },
  {
   "cell_type": "code",
   "execution_count": null,
   "metadata": {},
   "outputs": [],
   "source": [
    "# Rename Unnamed:0 column\n",
    "air3_data_df.rename(columns ={\"Unnamed: 0\":\"Number\"})"
   ]
  },
  {
   "cell_type": "code",
   "execution_count": null,
   "metadata": {},
   "outputs": [],
   "source": [
    "air3_df=air3_data_df.drop(columns=[\"Unnamed: 0\",'year','month','day','hour','wd'])\n",
    "air3_df"
   ]
  },
  {
   "cell_type": "code",
   "execution_count": null,
   "metadata": {},
   "outputs": [],
   "source": [
    "air3_df.info()"
   ]
  },
  {
   "cell_type": "code",
   "execution_count": null,
   "metadata": {},
   "outputs": [],
   "source": [
    "print(air3_df.columns)"
   ]
  },
  {
   "cell_type": "code",
   "execution_count": null,
   "metadata": {},
   "outputs": [],
   "source": [
    "# Get data metrics\n",
    "air3_df.describe()"
   ]
  },
  {
   "cell_type": "markdown",
   "metadata": {},
   "source": [
    "1. Predict for Target = O3"
   ]
  },
  {
   "cell_type": "code",
   "execution_count": null,
   "metadata": {},
   "outputs": [],
   "source": [
    "# creating feature variables \n",
    "X = air3_df.drop('O3',axis= 1) \n",
    "y = air3_df['O3'] \n",
    "print(X) \n",
    "print(y)"
   ]
  },
  {
   "cell_type": "markdown",
   "metadata": {},
   "source": [
    "Scatter Plot with Ozone (O3) and Temperature (TEMP)"
   ]
  },
  {
   "cell_type": "code",
   "execution_count": null,
   "metadata": {},
   "outputs": [],
   "source": [
    "# creating train and test sets \n",
    "X_train, X_test, y_train, y_test = train_test_split( \n",
    "    X, y, test_size=0.3, random_state=101) "
   ]
  },
  {
   "cell_type": "code",
   "execution_count": null,
   "metadata": {},
   "outputs": [],
   "source": [
    "# creating a regression model \n",
    "model = LinearRegression() "
   ]
  },
  {
   "cell_type": "code",
   "execution_count": null,
   "metadata": {},
   "outputs": [],
   "source": [
    "# fitting the model \n",
    "model.fit(X_train,y_train)"
   ]
  },
  {
   "cell_type": "code",
   "execution_count": null,
   "metadata": {},
   "outputs": [],
   "source": [
    "# making predictions \n",
    "predictions = model.predict(X_test)"
   ]
  },
  {
   "cell_type": "code",
   "execution_count": 23,
   "metadata": {},
   "outputs": [
    {
     "name": "stdout",
     "output_type": "stream",
     "text": [
      "mean_squared_error :  370530.05017968314\n",
      "mean_absolute_error :  376.8932019597799\n"
     ]
    }
   ],
   "source": [
    "# model evaluation \n",
    "print( \n",
    "  'mean_squared_error : ', mean_squared_error(y_test, predictions)) \n",
    "print( \n",
    "  'mean_absolute_error : ', mean_absolute_error(y_test, predictions)) "
   ]
  },
  {
   "cell_type": "markdown",
   "metadata": {},
   "source": [
    "2. Predict for Target = CO"
   ]
  },
  {
   "cell_type": "code",
   "execution_count": null,
   "metadata": {},
   "outputs": [],
   "source": [
    "# creating feature variables \n",
    "X = air3_df.drop('CO',axis= 1) \n",
    "y = air3_df['CO'] \n",
    "print(X) \n",
    "print(y)"
   ]
  },
  {
   "cell_type": "code",
   "execution_count": null,
   "metadata": {},
   "outputs": [],
   "source": [
    "# creating train and test sets \n",
    "X_train, X_test, y_train, y_test = train_test_split( \n",
    "    X, y, test_size=0.3, random_state=101) "
   ]
  },
  {
   "cell_type": "code",
   "execution_count": null,
   "metadata": {},
   "outputs": [],
   "source": [
    "model = LinearRegression() \n",
    "model.fit(X_train,y_train)\n",
    "predictions = model.predict(X_test)"
   ]
  },
  {
   "cell_type": "code",
   "execution_count": 24,
   "metadata": {},
   "outputs": [
    {
     "name": "stdout",
     "output_type": "stream",
     "text": [
      "mean_squared_error :  370530.05017968314\n",
      "mean_absolute_error :  376.8932019597799\n"
     ]
    }
   ],
   "source": [
    "# model evaluation \n",
    "print( \n",
    "  'mean_squared_error : ', mean_squared_error(y_test, predictions)) \n",
    "print( \n",
    "  'mean_absolute_error : ', mean_absolute_error(y_test, predictions)) "
   ]
  },
  {
   "cell_type": "markdown",
   "metadata": {},
   "source": [
    "Pair Plots for Relationships between Features "
   ]
  },
  {
   "cell_type": "code",
   "execution_count": null,
   "metadata": {},
   "outputs": [],
   "source": [
    "# Visualizing the relationships between features using pair plots  \n",
    "sns.pairplot(data = air3_df, height = 2) "
   ]
  },
  {
   "cell_type": "markdown",
   "metadata": {},
   "source": [
    "Pearson Correlation Coefficient value computed between every two features, and Seaborn's Heatmap Plot to display matrix. "
   ]
  },
  {
   "cell_type": "markdown",
   "metadata": {},
   "source": [
    "Multicollinearity\n",
    "The multiple linear regression model assumes no correlation exists between the predictors or the independent variables employed in the regression. Using the corr() method from the Pandas dataframe, we can compute the Pearson correlation coefficient value between every two features of our data and build a matrix to see whether there is any correlation between any predictors. After that, we can use Seaborn's heatmap() plot to display the matrix as a heatmap. \n",
    "The Pearson correlation coefficient (r) is the most common way of measuring a linear correlation. It is a number between –1 and 1 that measures the strength and direction of the relationship between two variables."
   ]
  },
  {
   "cell_type": "code",
   "execution_count": null,
   "metadata": {},
   "outputs": [],
   "source": [
    "# Visualizing multicollinearity between independent features using a heatmap  \n",
    "  \n",
    "corr = air3_df[['PM2.5', 'PM10', 'SO2', 'NO2', 'CO', 'O3', 'TEMP', 'PRES', 'DEWP',\n",
    "       'RAIN', 'WSPM']].corr()  \n",
    "print('Pearson correlation coefficient matrix for each independent variable: \\n', corr)  \n",
    "  \n",
    "# Masking the diagonal cells   \n",
    "masking = np.zeros_like(corr, dtype = bool)  \n",
    "np.fill_diagonal(masking, val = True)  \n",
    "  \n",
    "# Initializing a matplotlib figure  \n",
    "figure, axis = plt.subplots(figsize = (4, 3))  \n",
    "  \n",
    "# Generating a custom colormap  \n",
    "c_map = sns.diverging_palette(223, 14, as_cmap = True, sep = 100)  \n",
    "c_map.set_bad('grey')  \n",
    "  \n",
    "# Displaying the heatmap with the masking and the correct aspect ratio  \n",
    "sns.heatmap(corr, mask = masking, cmap = c_map, vmin = -1, vmax = 1, center = 1, linewidths = 1)  \n",
    "figure.suptitle('Heatmap visualizing Pearson Correlation Coefficient Matrix', fontsize = 14)  \n",
    "axis.tick_params(axis = 'both', which = 'major', labelsize = 10)  "
   ]
  },
  {
   "cell_type": "markdown",
   "metadata": {},
   "source": [
    "1. For Target = O3"
   ]
  },
  {
   "cell_type": "code",
   "execution_count": 25,
   "metadata": {},
   "outputs": [
    {
     "name": "stdout",
     "output_type": "stream",
     "text": [
      "Intercept:  -117.03237018427141\n",
      "Coefficients array:  [ 1.57294634e-01  3.93318439e-02  2.84525105e-01 -7.97442020e-01\n",
      "  1.33234639e-03  4.33588565e+00  1.31796078e-01 -1.58767871e+00\n",
      "  8.68608179e-01  2.29319850e+00]\n"
     ]
    }
   ],
   "source": [
    "# Building the Multiple Linear Regression Model  \n",
    "  \n",
    "# Setting the independent and dependent features  \n",
    "X = air3_df.drop('O3',axis= 1) \n",
    "y = air3_df['O3']   \n",
    "  \n",
    "# Initializing the model class from the sklearn package and fitting our data into it  \n",
    "reg = linear_model.LinearRegression()  \n",
    "reg.fit(X, y)  \n",
    "  \n",
    "# Printing the intercept and the coefficients of the regression equation  \n",
    "print('Intercept: ', reg.intercept_)  \n",
    "print('Coefficients array: ', reg.coef_)  "
   ]
  },
  {
   "cell_type": "markdown",
   "metadata": {},
   "source": [
    "2. For Target = CO"
   ]
  },
  {
   "cell_type": "code",
   "execution_count": 26,
   "metadata": {},
   "outputs": [
    {
     "name": "stdout",
     "output_type": "stream",
     "text": [
      "Intercept:  1228.0744322916385\n",
      "Coefficients array:  [  7.99073937  -0.30665982   6.39132479   7.40826675   0.36009881\n",
      " -29.92783751  -0.71839287  12.76056828   8.60725658   1.9149369 ]\n"
     ]
    }
   ],
   "source": [
    "# Building the Multiple Linear Regression Model  \n",
    "  \n",
    "# Setting the independent and dependent features  \n",
    "X = air3_df.drop('CO',axis= 1) \n",
    "y = air3_df['CO']   \n",
    "  \n",
    "# Initializing the model class from the sklearn package and fitting our data into it  \n",
    "reg = linear_model.LinearRegression()  \n",
    "reg.fit(X, y)  \n",
    "  \n",
    "# Printing the intercept and the coefficients of the regression equation  \n",
    "print('Intercept: ', reg.intercept_)  \n",
    "print('Coefficients array: ', reg.coef_)  "
   ]
  }
 ],
 "metadata": {
  "kernelspec": {
   "display_name": "Python 3 (ipykernel)",
   "language": "python",
   "name": "python3"
  },
  "language_info": {
   "codemirror_mode": {
    "name": "ipython",
    "version": 3
   },
   "file_extension": ".py",
   "mimetype": "text/x-python",
   "name": "python",
   "nbconvert_exporter": "python",
   "pygments_lexer": "ipython3",
   "version": "3.10.12"
  },
  "nteract": {
   "version": "0.28.0"
  },
  "vscode": {
   "interpreter": {
    "hash": "40d3a090f54c6569ab1632332b64b2c03c39dcf918b08424e98f38b5ae0af88f"
   }
  }
 },
 "nbformat": 4,
 "nbformat_minor": 4
}
